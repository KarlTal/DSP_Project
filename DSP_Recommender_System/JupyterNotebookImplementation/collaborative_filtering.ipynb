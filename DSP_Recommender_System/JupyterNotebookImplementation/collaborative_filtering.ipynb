{
 "cells": [
  {
   "cell_type": "code",
   "execution_count": null,
   "id": "14d5f4f0-ee3c-4125-b006-aef1eb136de0",
   "metadata": {},
   "outputs": [],
   "source": [
    "import pandas as pd\n",
    "from scipy.sparse import coo_matrix\n",
    "from sklearn.metrics.pairwise import cosine_similarity\n",
    "import numpy as np\n",
    "# Obtains the imported library from good reads and assign to a panda dataframe called my_books\n",
    "my_books = pd.read_csv(\"karl_good_reads.csv\", index_col=0)\n",
    "# Ensure that the book_id column is of type string\n",
    "my_books[\"book_id\"] = my_books[\"book_id\"].astype(str)"
   ]
  },
  {
   "cell_type": "code",
   "execution_count": null,
   "id": "36517259-3f47-445d-bdc1-edd35b5dd1da",
   "metadata": {
    "jupyter": {
     "outputs_hidden": true
    },
    "tags": []
   },
   "outputs": [],
   "source": [
    "my_books"
   ]
  },
  {
   "cell_type": "code",
   "execution_count": null,
   "id": "f3c8673d-2b3b-4b4e-9999-358fa79fb796",
   "metadata": {},
   "outputs": [],
   "source": [
    "csv_book_mapping = {}\n",
    "# Finding users similar to the current user\n",
    "# Load in the mapping file between the book ids\n",
    "with open(\"book_id_map.csv\", \"r\") as f:\n",
    "    while True:\n",
    "        line = f.readline() #Read line by line \n",
    "        if not line:\n",
    "            break #End the loop once its done reading\n",
    "\n",
    "        csv_id, book_id = line.strip().split(\",\") # Split to 2 variables, removes new line characters\n",
    "        csv_book_mapping[csv_id] = book_id #Assign to the dictionary"
   ]
  },
  {
   "cell_type": "code",
   "execution_count": null,
   "id": "a5728539-6d22-4df8-8afd-2b14c3e85c7f",
   "metadata": {},
   "outputs": [],
   "source": [
    "book_set = set(my_books[\"book_id\"]) #Creates a unique set (list) that contains all the books the user has read"
   ]
  },
  {
   "cell_type": "code",
   "execution_count": null,
   "id": "d4071d39-5c91-4012-a5d8-c1d0cc1b9518",
   "metadata": {},
   "outputs": [],
   "source": [
    "overlap_users = {}\n",
    "\n",
    "# Read the 10 million chunk of user ratings\n",
    "with open(\"chunk0.csv\", 'r') as f:\n",
    "    while True:\n",
    "        line = f.readline()\n",
    "        if not line:\n",
    "            break\n",
    "            \n",
    "        user_id, csv_id, _, rating, _ = line.split(\",\")\n",
    "        # Get the book_id by invoking the csv_book_mapping created above.\n",
    "        book_id = csv_book_mapping.get(csv_id)\n",
    "        if book_id in book_set:\n",
    "            if user_id not in overlap_users:\n",
    "                # If the current book has been read by the current user\n",
    "                # and that user is not in the overlap_user dictionary\n",
    "                # then add that user\n",
    "\n",
    "                #Key and value pairs\n",
    "                #Key = user_id\n",
    "                #Value = number of times they have read the same books as the current user\n",
    "                overlap_users[user_id] = 1\n",
    "            else:\n",
    "                # If user has already read a book that is the same as the current user\n",
    "                # then increase their book count by 1\n",
    "                overlap_users[user_id] += 1"
   ]
  },
  {
   "cell_type": "code",
   "execution_count": null,
   "id": "93b5bdd4-be14-4ca0-b658-a41fc5c144ae",
   "metadata": {},
   "outputs": [],
   "source": [
    "# Filter the similar users that only read 10% of the same books as us, since user's who has less than 10% will not be useful.\n",
    "filtered_overlap_users = set([k for k in overlap_users if overlap_users[k] > my_books.shape[0]/10]) # 10%"
   ]
  },
  {
   "cell_type": "code",
   "execution_count": null,
   "id": "3da428ca-578c-47f0-b6c5-63316741536f",
   "metadata": {},
   "outputs": [],
   "source": [
    "interactions_list = []\n",
    "\n",
    "# Open the 10 million user interaction csv file.\n",
    "with open(\"chunk0.csv\", 'r') as f:\n",
    "    while True:\n",
    "        line = f.readline()\n",
    "        if not line:\n",
    "            break\n",
    "        user_id, csv_id, _, rating, _ = line.split(\",\")\n",
    "        # If the user in the interactions are one that are chosen to be used for the recommendation\n",
    "        # Add their books and corresponding ratings to the interaction_list\n",
    "        if user_id in filtered_overlap_users:\n",
    "            book_id = csv_book_mapping[csv_id]\n",
    "            interactions_list.append([user_id, book_id, rating])"
   ]
  },
  {
   "cell_type": "code",
   "execution_count": null,
   "id": "f235bce7-a4f4-4976-9e59-719dd4ba0e33",
   "metadata": {},
   "outputs": [],
   "source": [
    "#Convert the interactions list to a pandas dataframe with columns of user_id, book_id and rating\n",
    "interactions = pd.DataFrame(interactions_list, columns=[\"user_id\", \"book_id\", \"rating\"])"
   ]
  },
  {
   "cell_type": "code",
   "execution_count": null,
   "id": "64bf2416-5967-48eb-80cf-46929b612ac5",
   "metadata": {},
   "outputs": [],
   "source": [
    "# Add  the current user's ratings to the matrix through pandas' concat \n",
    "interactions = pd.concat([my_books[[\"user_id\", \"book_id\", \"rating\"]], interactions])\n",
    "interactions"
   ]
  },
  {
   "cell_type": "code",
   "execution_count": null,
   "id": "2e1f5d52-4ada-483c-8fb1-6c550ee3a19c",
   "metadata": {},
   "outputs": [],
   "source": [
    "# Data preprocessing\n",
    "# Ensure that they are the same data type as the books_titles.json\n",
    "interactions[\"book_id\"] = interactions[\"book_id\"].astype(str)\n",
    "interactions[\"user_id\"] = interactions[\"user_id\"].astype(str)\n",
    "interactions[\"rating\"] = pd.to_numeric(interactions[\"rating\"])"
   ]
  },
  {
   "cell_type": "code",
   "execution_count": null,
   "id": "d967bef1-2dc7-4186-beb7-913caf7ae986",
   "metadata": {},
   "outputs": [],
   "source": [
    "# Create a column of user_index and paste the user_id column but as type of category\n",
    "# All the identical numbers are converted to the same category\n",
    "interactions[\"user_index\"] = interactions[\"user_id\"].astype(\"category\").cat.codes\n",
    "interactions[\"book_index\"] = interactions[\"book_id\"].astype(\"category\").cat.codes"
   ]
  },
  {
   "cell_type": "code",
   "execution_count": null,
   "id": "7ba5561b",
   "metadata": {},
   "outputs": [],
   "source": [
    "# user_index corresponds to the user id but is in order \n",
    "# hence we can assign them to a row in the matrix\n",
    "# e.g row 0 will be the current user's id\n",
    "\n",
    "interactions.iloc[100]"
   ]
  },
  {
   "cell_type": "code",
   "execution_count": null,
   "id": "3a74ede9-3c58-412c-9c1f-283b43801268",
   "metadata": {},
   "outputs": [],
   "source": [
    "# Sparse matrix\n",
    "# No value in the column, doesn't take any space\n",
    "# Create using coo matrix from scipy\n",
    "# A matrix using an array/list, user_index (row positions) and column positions.\n",
    "ratings_mat_coo = coo_matrix((interactions[\"rating\"], (interactions[\"user_index\"], interactions[\"book_index\"])))"
   ]
  },
  {
   "cell_type": "code",
   "execution_count": null,
   "id": "51024455-a981-4325-bd6d-7a8b341185bd",
   "metadata": {},
   "outputs": [],
   "source": [
    "ratings_mat = ratings_mat_coo.tocsr()"
   ]
  },
  {
   "cell_type": "code",
   "execution_count": null,
   "id": "9e8fc788-ef9d-4a59-8532-7644ed245221",
   "metadata": {},
   "outputs": [],
   "source": [
    "# As the dataset is large, it will be troubling to identify a id\n",
    "# that does not correspond to an existing user\n",
    "# hence the current user_id will be -1\n",
    "interactions[interactions[\"user_id\"] == \"-1\"]"
   ]
  },
  {
   "cell_type": "code",
   "execution_count": null,
   "id": "76cbdba1-74eb-47dc-bdc6-1a07fddf986c",
   "metadata": {},
   "outputs": [],
   "source": [
    "my_index = 0"
   ]
  },
  {
   "cell_type": "code",
   "execution_count": null,
   "id": "1be4af17-9d0c-431d-b30d-6946cd316a54",
   "metadata": {},
   "outputs": [],
   "source": [
    "from sklearn.metrics.pairwise import cosine_similarity\n",
    "# Uses cosine similary to see the most similar users and will user their ratings\n",
    "# in order to create a recommendation to the current user.\n",
    "\n",
    "similarity = cosine_similarity(ratings_mat[my_index,:], ratings_mat).flatten()\n",
    "# Finds the similarity between each user in the matrix in correspondence to the current user\n",
    "# Flatten to turn into an np array.\n",
    "# COS, 1 = Best (Highest) similarity\n",
    "\n",
    "print(similarity)\n",
    "print(len(similarity))"
   ]
  },
  {
   "cell_type": "code",
   "execution_count": null,
   "id": "2c2ea84b-3b2b-4f3b-8d29-63f4c89e73e4",
   "metadata": {},
   "outputs": [],
   "source": [
    "# As sometimes the recommendation will not return a large amount of similar users\n",
    "# Select the 10 most similar users, if it is less than that\n",
    "# select that amount of similar users instead\n",
    "\n",
    "if len(similarity) <10:\n",
    "    indices = np.argpartition(similarity, -(len(similarity)))[-(len(similarity)):]\n",
    "    print(indices)\n",
    "else:\n",
    "    indices = np.argpartition(similarity, -10)[-10:]"
   ]
  },
  {
   "cell_type": "code",
   "execution_count": null,
   "id": "dfeb4260-3272-459d-babf-981d658b93ea",
   "metadata": {},
   "outputs": [],
   "source": [
    "indices"
   ]
  },
  {
   "cell_type": "code",
   "execution_count": null,
   "id": "5f959206-2d28-4529-bfb5-e6088835077e",
   "metadata": {},
   "outputs": [],
   "source": [
    "# Find the all of the rows where the user_index is in the indices numpy array and copy it over\n",
    "# to similar users which will have the user_id alongside the rating, user_index, and book_index\n",
    "similar_users = interactions[interactions[\"user_index\"].isin(indices)].copy()\n",
    "print(similar_users)"
   ]
  },
  {
   "cell_type": "code",
   "execution_count": null,
   "id": "2a1f84bf-a873-4800-9172-a08bd2902b62",
   "metadata": {},
   "outputs": [],
   "source": [
    "# Remove the current user from the similar user\n",
    "similar_users = similar_users[similar_users[\"user_id\"]!=\"-1\"]"
   ]
  },
  {
   "cell_type": "code",
   "execution_count": null,
   "id": "5b795958-6161-45cd-b45b-fd5058fa00db",
   "metadata": {},
   "outputs": [],
   "source": [
    "#Output the users alongside their book id, corresponding rating\n",
    "similar_users"
   ]
  },
  {
   "cell_type": "code",
   "execution_count": null,
   "id": "502e0943-b861-4cfb-b727-ccd65a546941",
   "metadata": {},
   "outputs": [],
   "source": [
    "# Find the number of times a book appears in the similar users' recommendation\n",
    "# Group the users by book_id, then calculate the number of times a book appears\n",
    "# Then calculate the mean/average rating of the book into a mean column\n",
    "book_recs = similar_users.groupby(\"book_id\").rating.agg(['count', 'mean'])\n",
    "book_recs"
   ]
  },
  {
   "cell_type": "code",
   "execution_count": null,
   "id": "71101ae4-cad7-4875-aba9-2aba92c011cc",
   "metadata": {},
   "outputs": [],
   "source": [
    "# Read the book_titles which will help map the title to the book_id\n",
    "books_titles = pd.read_json(\"books_titles.json\")\n",
    "books_titles[\"book_id\"] = books_titles[\"book_id\"].astype(str)"
   ]
  },
  {
   "cell_type": "code",
   "execution_count": null,
   "id": "9826f559-3f8d-4418-b9fc-82a945d266d1",
   "metadata": {},
   "outputs": [],
   "source": [
    "# Inner join merge the 2 pandas dataframe to get the book title based on the same book_id\n",
    "book_recs = book_recs.merge(books_titles, how=\"inner\", on=\"book_id\")\n",
    "book_recs"
   ]
  },
  {
   "cell_type": "code",
   "execution_count": null,
   "id": "3ec6820e-0270-4b36-b61e-fea641b95c39",
   "metadata": {},
   "outputs": [],
   "source": [
    "# Count normalized how many times the book appeared among similar users to the current user relative to other users.\n",
    "# Not just books that are popular in the entire GoooReads dataset\n",
    "book_recs[\"adjusted_count\"] = book_recs[\"count\"] * (book_recs[\"count\"] / book_recs[\"ratings\"])"
   ]
  },
  {
   "cell_type": "code",
   "execution_count": null,
   "id": "842748a1-0593-4b27-b61c-6a566db217d5",
   "metadata": {},
   "outputs": [],
   "source": [
    "# Calculate the score by multiplying the mean of the ratings from similar users by the number of times the book was recommended\n",
    "book_recs[\"score\"] = book_recs[\"mean\"] * book_recs[\"adjusted_count\"]"
   ]
  },
  {
   "cell_type": "code",
   "execution_count": null,
   "id": "36f462ea-8fd3-430f-a42c-1549dc284945",
   "metadata": {},
   "outputs": [],
   "source": [
    "# Remove books in the recommedation that the current user has already read and rated in the my_books dataframe\n",
    "book_recs = book_recs[~book_recs[\"book_id\"].isin(my_books[\"book_id\"])]"
   ]
  },
  {
   "cell_type": "code",
   "execution_count": null,
   "id": "c4c7ff89-904a-409c-8dc3-55eae022b571",
   "metadata": {},
   "outputs": [],
   "source": [
    "# Set the mean score to 3.5 as anything higher will result in less recommended books\n",
    "# As 10 million entries only accounts for just over 3k unique users.\n",
    "book_recs = book_recs[book_recs[\"mean\"] >=3.5]"
   ]
  },
  {
   "cell_type": "code",
   "execution_count": null,
   "id": "04157256-c12e-4879-b2c0-00ebed0d3444",
   "metadata": {},
   "outputs": [],
   "source": [
    "# More than 2 users in the similar users has rated.\n",
    "book_recs = book_recs[book_recs[\"count\"]>2]"
   ]
  },
  {
   "cell_type": "code",
   "execution_count": null,
   "id": "ca937e99-e5b8-4e4a-ac10-616b267df086",
   "metadata": {},
   "outputs": [],
   "source": [
    "top_recs = book_recs.sort_values(\"mean\", ascending=False)"
   ]
  },
  {
   "cell_type": "code",
   "execution_count": null,
   "id": "9e90e68e-c885-45c1-8976-3fa734a8b637",
   "metadata": {},
   "outputs": [],
   "source": [
    "# Print the top recommendations and only contain the book_id and the title\n",
    "top_recs.columns\n",
    "top_recs[['book_id','title']]"
   ]
  }
 ],
 "metadata": {
  "kernelspec": {
   "display_name": "Python 3 (ipykernel)",
   "language": "python",
   "name": "python3"
  },
  "language_info": {
   "codemirror_mode": {
    "name": "ipython",
    "version": 3
   },
   "file_extension": ".py",
   "mimetype": "text/x-python",
   "name": "python",
   "nbconvert_exporter": "python",
   "pygments_lexer": "ipython3",
   "version": "3.10.7"
  }
 },
 "nbformat": 4,
 "nbformat_minor": 5
}
